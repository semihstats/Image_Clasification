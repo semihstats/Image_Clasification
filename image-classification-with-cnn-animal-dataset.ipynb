{
 "cells": [
  {
   "cell_type": "markdown",
   "id": "96d3e643",
   "metadata": {
    "papermill": {
     "duration": 0.006493,
     "end_time": "2024-12-22T14:11:48.911528",
     "exception": false,
     "start_time": "2024-12-22T14:11:48.905035",
     "status": "completed"
    },
    "tags": []
   },
   "source": [
    "### Libraries\n",
    "\n",
    "- **os**: Used for file and directory operations.\n",
    "- **random**: Used for generating random numbers and shuffling data.\n",
    "- **numpy**: Used for numerical operations and array manipulations.\n",
    "- **PIL (Python Imaging Library)**: Used for image processing; `Image` and `ImageOps` modules are used to work with images.\n",
    "- **torch.utils.data**: Provides tools for data loading and splitting datasets during training, including `DataLoader` and `random_split`.\n",
    "- **torchvision.datasets**: Provides easy access to popular datasets.\n",
    "- **torchvision.transforms**: Used to apply transformations (such as rescaling, normalization) to image data.\n",
    "- **torch**: The core PyTorch library used for deep learning tasks.\n",
    "- **torch.nn**: Contains modules and classes for building neural network models.\n",
    "- **torch.optim**: Contains optimization algorithms like SGD and Adam for model training.\n",
    "- **matplotlib.pyplot**: Used for data visualization and plotting graphs."
   ]
  },
  {
   "cell_type": "code",
   "execution_count": 1,
   "id": "1f309479",
   "metadata": {
    "execution": {
     "iopub.execute_input": "2024-12-22T14:11:48.923987Z",
     "iopub.status.busy": "2024-12-22T14:11:48.923658Z",
     "iopub.status.idle": "2024-12-22T14:11:53.026208Z",
     "shell.execute_reply": "2024-12-22T14:11:53.025553Z"
    },
    "papermill": {
     "duration": 4.110258,
     "end_time": "2024-12-22T14:11:53.027768",
     "exception": false,
     "start_time": "2024-12-22T14:11:48.917510",
     "status": "completed"
    },
    "tags": []
   },
   "outputs": [],
   "source": [
    "import os\n",
    "import random\n",
    "import numpy as np\n",
    "from PIL import Image, ImageOps\n",
    "from torch.utils.data import DataLoader, random_split\n",
    "from torchvision import datasets, transforms\n",
    "import torch\n",
    "import torch.nn as nn\n",
    "import torch.optim as optim\n",
    "import matplotlib.pyplot as plt"
   ]
  },
  {
   "cell_type": "markdown",
   "id": "4e58d895",
   "metadata": {
    "papermill": {
     "duration": 0.005542,
     "end_time": "2024-12-22T14:11:53.039441",
     "exception": false,
     "start_time": "2024-12-22T14:11:53.033899",
     "status": "completed"
    },
    "tags": []
   },
   "source": [
    "### Parameters and Data Augmentation Pipeline\n",
    "\n",
    "#### Parameters:\n",
    "- **input_dir**: Path to the directory containing the original dataset (JPEG images). In this case, it points to the \"Animals with Attributes 2\" dataset.\n",
    "- **output_dir**: Path to the directory where the augmented dataset will be saved after processing.\n",
    "- **target_count**: The target number of images to be generated per class after augmentation (set to 1000 images per class).\n",
    "- **min_size**: Minimum size for resizing images, set to 128x128 pixels.\n",
    "\n",
    "#### Data Augmentation Pipeline:\n",
    "The following image transformations are applied to the dataset to augment it:\n",
    "\n",
    "1. **RandomHorizontalFlip**: Randomly flips the image horizontally with a probability of 0.5.\n",
    "2. **RandomRotation**: Rotates the image randomly by up to 10 degrees.\n",
    "3. **ColorJitter**: Randomly changes the image's brightness and contrast with a factor of 0.5.\n",
    "4. **RandomResizedCrop**: Randomly crops and resizes the image to the target size (128x128), with the crop scale ranging from 80% to 100%.\n",
    "5. **RandomAffine**: Applies random affine transformations, including:\n",
    "   - Rotation by up to 10 degrees.\n",
    "   - Translation by up to 10% of the image dimensions.\n",
    "   - Scaling by a factor ranging from 80% to 120%.\n",
    "6. **RandomVerticalFlip**: Randomly flips the image vertically with a probability of 0.5.\n",
    "7. **Resize**: Ensures that all images are resized to the final target size (128x128 pixels).\n",
    "8. **ToTensor**: Converts the image into a tensor format, which is compatible with PyTorch for model training.\n"
   ]
  },
  {
   "cell_type": "code",
   "execution_count": 2,
   "id": "239beaf3",
   "metadata": {
    "execution": {
     "iopub.execute_input": "2024-12-22T14:11:53.051697Z",
     "iopub.status.busy": "2024-12-22T14:11:53.051358Z",
     "iopub.status.idle": "2024-12-22T14:11:53.056392Z",
     "shell.execute_reply": "2024-12-22T14:11:53.055583Z"
    },
    "papermill": {
     "duration": 0.012543,
     "end_time": "2024-12-22T14:11:53.057693",
     "exception": false,
     "start_time": "2024-12-22T14:11:53.045150",
     "status": "completed"
    },
    "tags": []
   },
   "outputs": [],
   "source": [
    "# Parameters\n",
    "input_dir = \"JPEGImages\"  # Original dataset\n",
    "output_dir = \"augmented_dataset_128x128\"  # Balanced dataset\n",
    "target_count = 1000  # Target number of images per class\n",
    "min_size = 128  # Minimum size\n",
    "# Data augmentation pipeline\n",
    "data_augmentation = transforms.Compose([\n",
    "    transforms.RandomHorizontalFlip(p=0.5),  # Random horizontal flip\n",
    "    transforms.RandomRotation(degrees=10),  # Random rotation by 10 degrees\n",
    "    transforms.ColorJitter(brightness=0.5, contrast=0.5),  # Random color jitter\n",
    "    transforms.RandomResizedCrop(size=(min_size, min_size), scale=(0.8, 1.0)),  # Random resize crop\n",
    "    transforms.RandomAffine(degrees=10, translate=(0.1, 0.1), scale=(0.8, 1.2)),  # Random affine transformation\n",
    "    transforms.RandomVerticalFlip(p=0.5),  # Random vertical flip\n",
    "    transforms.Resize((min_size, min_size)),  # Ensure image is resized to 128x128\n",
    "    transforms.ToTensor(),  # Convert images to tensor\n",
    "])"
   ]
  },
  {
   "cell_type": "markdown",
   "id": "df62970a",
   "metadata": {
    "papermill": {
     "duration": 0.005384,
     "end_time": "2024-12-22T14:11:53.068815",
     "exception": false,
     "start_time": "2024-12-22T14:11:53.063431",
     "status": "completed"
    },
    "tags": []
   },
   "source": [
    "### Salt-and-Pepper Noise and Light Rotation Functions\n",
    "\n",
    "#### Salt-and-Pepper Noise Function\n",
    "This function introduces \"salt-and-pepper\" noise to an image:\n",
    "- **Salt**: Random pixels are set to 255 (white).\n",
    "- **Pepper**: Random pixels are set to 0 (black).\n",
    "  \n",
    "The noise is added at a specified amount, which defaults to 2% of the total pixels.\n",
    "\n",
    "#### Light Rotation Function\n",
    "Applies light rotation to an image by a random angle between -10° and 10°.\n",
    "\n",
    "#### Data Augmentation Selection\n",
    "Randomly applies one of the two augmentations: salt-and-pepper noise or light rotation.\n",
    "\n",
    "### Data Processing and Augmentation\n",
    "\n",
    "The following steps are performed for each class of images in the dataset:\n",
    "\n",
    "1. **Directory Setup**: Creates output directories for each class if they don't exist.\n",
    "2. **Image Handling**:\n",
    "   - If a class contains more or equal to the target count of images, existing images are resized to 128x128 and saved.\n",
    "   - If there are fewer than the target count, the script applies augmentations to make up the difference:\n",
    "     - Randomly selects an image.\n",
    "     - Applies random augmentations (either salt-and-pepper noise or light rotation).\n",
    "     - Saves the augmented image in the class directory.\n",
    "\n",
    "### Output Structure\n",
    "The script processes images from the `input_dir`, resizes them to 128x128, applies augmentation if necessary, and stores the processed images in the `output_dir` under respective class folders.\n"
   ]
  },
  {
   "cell_type": "code",
   "execution_count": 3,
   "id": "a594c06b",
   "metadata": {
    "execution": {
     "iopub.execute_input": "2024-12-22T14:11:53.080788Z",
     "iopub.status.busy": "2024-12-22T14:11:53.080584Z",
     "iopub.status.idle": "2024-12-22T14:28:22.457927Z",
     "shell.execute_reply": "2024-12-22T14:28:22.457158Z"
    },
    "papermill": {
     "duration": 989.385279,
     "end_time": "2024-12-22T14:28:22.459661",
     "exception": false,
     "start_time": "2024-12-22T14:11:53.074382",
     "status": "completed"
    },
    "tags": []
   },
   "outputs": [],
   "source": [
    "# Salt-and-Pepper Noise Function\n",
    "def salt_and_pepper_noise(image, amount=0.02):\n",
    "    \"\"\" Add salt and pepper noise to an image \"\"\"\n",
    "    np_image = np.array(image)\n",
    "    total_pixels = np_image.size\n",
    "    num_salt = int(amount * total_pixels)\n",
    "    num_pepper = int(amount * total_pixels)\n",
    "\n",
    "    # Salt: set random pixels to 255 (white)\n",
    "    salt_coords = [np.random.randint(0, i - 1, num_salt) for i in np_image.shape[:2]]\n",
    "    np_image[salt_coords[0], salt_coords[1], :] = 255\n",
    "\n",
    "    # Pepper: set random pixels to 0 (black)\n",
    "    pepper_coords = [np.random.randint(0, i - 1, num_pepper) for i in np_image.shape[:2]]\n",
    "    np_image[pepper_coords[0], pepper_coords[1], :] = 0\n",
    "\n",
    "    return Image.fromarray(np_image)\n",
    "\n",
    "# Light Rotation Function\n",
    "def light_rotation(image):\n",
    "    \"\"\" Apply light rotation (±10°) to an image \"\"\"\n",
    "    angle = random.uniform(-10, 10)  # Random rotation angle between -10 and 10 degrees\n",
    "    return transforms.functional.rotate(image, angle)\n",
    "\n",
    "# Data Augmentation Selection\n",
    "def random_augmentation(image):\n",
    "    \"\"\" Randomly apply one augmentation method \"\"\"\n",
    "    if random.random() < 0.5:\n",
    "        return salt_and_pepper_noise(image)\n",
    "    else:\n",
    "        return light_rotation(image)\n",
    "\n",
    "os.makedirs(output_dir, exist_ok=True)\n",
    "\n",
    "# Process Classes\n",
    "for class_name in sorted(os.listdir(input_dir)):\n",
    "    class_dir = os.path.join(input_dir, class_name)\n",
    "    output_class_dir = os.path.join(output_dir, class_name)\n",
    "    os.makedirs(output_class_dir, exist_ok=True)\n",
    "\n",
    "    images = os.listdir(class_dir)\n",
    "    image_count = len(images)\n",
    "\n",
    "    # If there are more than or equal to the target number of images, copy existing images\n",
    "    if image_count >= target_count:\n",
    "        selected_images = images[:target_count]\n",
    "        for img_name in selected_images:\n",
    "            img_path = os.path.join(class_dir, img_name)\n",
    "            img = Image.open(img_path).convert(\"RGB\")\n",
    "            \n",
    "            # Resize image to 128x128\n",
    "            if img.size[0] > min_size and img.size[1] > min_size:\n",
    "                img = transforms.Resize((min_size, min_size))(img)\n",
    "            img.save(os.path.join(output_class_dir, img_name))\n",
    "    \n",
    "    # If there are fewer than the target number of images, apply augmentation\n",
    "    else:\n",
    "        augment_count = target_count - image_count\n",
    "        for img_name in images:\n",
    "            img_path = os.path.join(class_dir, img_name)\n",
    "            img = Image.open(img_path).convert(\"RGB\")\n",
    "            \n",
    "            # Resize image to 128x128\n",
    "            if img.size[0] > min_size and img.size[1] > min_size:\n",
    "                img = transforms.Resize((min_size, min_size))(img)\n",
    "            img.save(os.path.join(output_class_dir, img_name))\n",
    "\n",
    "        # Augment the remaining number of images\n",
    "        for i in range(augment_count):\n",
    "            img_name = random.choice(images)\n",
    "            img_path = os.path.join(class_dir, img_name)\n",
    "            img = Image.open(img_path).convert(\"RGB\")\n",
    "            \n",
    "            # Apply random augmentation\n",
    "            augmented_img = random_augmentation(img)\n",
    "            \n",
    "            # Save augmented image\n",
    "            augmented_img.save(os.path.join(output_class_dir, f\"aug_{i}_{img_name}\"))\n"
   ]
  },
  {
   "cell_type": "markdown",
   "id": "07d20f5c",
   "metadata": {
    "papermill": {
     "duration": 0.005643,
     "end_time": "2024-12-22T14:28:22.471998",
     "exception": false,
     "start_time": "2024-12-22T14:28:22.466355",
     "status": "completed"
    },
    "tags": []
   },
   "source": [
    "### Counting Images per Class\n",
    "\n",
    "This section of the code counts the number of images per class in the output directory after data augmentation.\n",
    "\n",
    "#### Code Explanation:\n",
    "\n",
    "1. **class_counts**: An empty dictionary is initialized to store the count of images for each class.\n",
    "\n",
    "2. **for class_name in sorted(os.listdir(output_dir))**: Iterates through each subdirectory (class) in the `output_dir`. The `sorted()` function ensures the classes are processed in a sorted order.\n",
    "\n",
    "3. **class_dir = os.path.join(output_dir, class_name)**: Combines the output directory path with the class name to form the path to each class directory.\n",
    "\n",
    "4. **if os.path.isdir(class_dir)**: Checks if the path refers to a directory, ensuring only directories (representing classes) are processed.\n",
    "\n",
    "5. **image_count = len(os.listdir(class_dir))**: Counts the number of files (images) inside the class directory.\n",
    "\n",
    "6. **class_counts[class_name] = image_count**: Stores the image count for the current class in the `class_counts` dictionary.\n",
    "\n",
    "7. **for class_name, count in class_counts.items()**: Loops through each class and its corresponding image count in the `class_counts` dictionary, printing the class name and its image count.\n",
    "\n",
    "8. **total_images = sum(class_counts.values())**: Sums up the image counts across all classes to get the total number of images in the dataset.\n",
    "\n",
    "9. **print(f\"Total Image Count: {total_images}\")**: Prints the total number of images across all classes.\n",
    "\n",
    "#### Output:\n",
    "The script outputs the number of images per class, followed by the total number of images in the augmented dataset.\n"
   ]
  },
  {
   "cell_type": "code",
   "execution_count": 4,
   "id": "ed333e4c",
   "metadata": {
    "execution": {
     "iopub.execute_input": "2024-12-22T14:28:22.484304Z",
     "iopub.status.busy": "2024-12-22T14:28:22.484037Z",
     "iopub.status.idle": "2024-12-22T14:28:22.520103Z",
     "shell.execute_reply": "2024-12-22T14:28:22.519054Z"
    },
    "papermill": {
     "duration": 0.043594,
     "end_time": "2024-12-22T14:28:22.521400",
     "exception": false,
     "start_time": "2024-12-22T14:28:22.477806",
     "status": "completed"
    },
    "tags": []
   },
   "outputs": [
    {
     "name": "stdout",
     "output_type": "stream",
     "text": [
      "Class: antelope, Image Count: 1000\n",
      "Class: bat, Image Count: 1000\n",
      "Class: beaver, Image Count: 1000\n",
      "Class: blue+whale, Image Count: 1000\n",
      "Class: bobcat, Image Count: 1000\n",
      "Class: buffalo, Image Count: 1000\n",
      "Class: chihuahua, Image Count: 1000\n",
      "Class: chimpanzee, Image Count: 1000\n",
      "Class: collie, Image Count: 1000\n",
      "Class: cow, Image Count: 1000\n",
      "Class: dalmatian, Image Count: 1000\n",
      "Class: deer, Image Count: 1000\n",
      "Class: dolphin, Image Count: 1000\n",
      "Class: elephant, Image Count: 1000\n",
      "Class: fox, Image Count: 1000\n",
      "Class: german+shepherd, Image Count: 1000\n",
      "Class: giant+panda, Image Count: 1000\n",
      "Class: giraffe, Image Count: 1000\n",
      "Class: gorilla, Image Count: 1000\n",
      "Class: grizzly+bear, Image Count: 1000\n",
      "Class: hamster, Image Count: 1000\n",
      "Class: hippopotamus, Image Count: 1000\n",
      "Class: horse, Image Count: 1000\n",
      "Class: humpback+whale, Image Count: 1000\n",
      "Class: killer+whale, Image Count: 1000\n",
      "Class: leopard, Image Count: 1000\n",
      "Class: lion, Image Count: 1000\n",
      "Class: mole, Image Count: 1000\n",
      "Class: moose, Image Count: 1000\n",
      "Class: mouse, Image Count: 1000\n",
      "Class: otter, Image Count: 1000\n",
      "Class: ox, Image Count: 1000\n",
      "Class: persian+cat, Image Count: 1000\n",
      "Class: pig, Image Count: 1000\n",
      "Class: polar+bear, Image Count: 1000\n",
      "Class: rabbit, Image Count: 1000\n",
      "Class: raccoon, Image Count: 1000\n",
      "Class: rat, Image Count: 1000\n",
      "Class: rhinoceros, Image Count: 1000\n",
      "Class: seal, Image Count: 1000\n",
      "Class: sheep, Image Count: 1000\n",
      "Class: siamese+cat, Image Count: 1000\n",
      "Class: skunk, Image Count: 1000\n",
      "Class: spider+monkey, Image Count: 1000\n",
      "Class: squirrel, Image Count: 1000\n",
      "Class: tiger, Image Count: 1000\n",
      "Class: walrus, Image Count: 1000\n",
      "Class: weasel, Image Count: 1000\n",
      "Class: wolf, Image Count: 1000\n",
      "Class: zebra, Image Count: 1000\n",
      "Total Image Count: 50000\n"
     ]
    }
   ],
   "source": [
    "class_counts = {}\n",
    "for class_name in sorted(os.listdir(output_dir)):\n",
    "    class_dir = os.path.join(output_dir, class_name)\n",
    "    \n",
    "    if os.path.isdir(class_dir):\n",
    "        image_count = len(os.listdir(class_dir))\n",
    "        class_counts[class_name] = image_count\n",
    "\n",
    "for class_name, count in class_counts.items():\n",
    "    print(f\"Class: {class_name}, Image Count: {count}\")\n",
    "\n",
    "total_images = sum(class_counts.values())\n",
    "print(f\"Total Image Count: {total_images}\")"
   ]
  },
  {
   "cell_type": "markdown",
   "id": "0a3c4a2d",
   "metadata": {
    "papermill": {
     "duration": 0.00554,
     "end_time": "2024-12-22T14:28:22.532788",
     "exception": false,
     "start_time": "2024-12-22T14:28:22.527248",
     "status": "completed"
    },
    "tags": []
   },
   "source": [
    "### Identifying and Listing Images Smaller than 128x128\n",
    "\n",
    "This script checks for images in the dataset that are smaller than 128x128 pixels and lists them.\n",
    "\n",
    "#### Code Explanation:\n",
    "\n",
    "1. **small_images**: An empty list is initialized to store information about images that are smaller than 128x128 pixels (including class, image name, width, and height).\n",
    "\n",
    "2. **for class_name in sorted(os.listdir(output_dir))**: The script iterates through the directories (representing different classes) inside the `output_dir`, sorting them alphabetically to ensure consistency.\n",
    "\n",
    "3. **class_dir = os.path.join(output_dir, class_name)**: Combines the `output_dir` with the current class name to create the full path to the class directory.\n",
    "\n",
    "4. **if os.path.isdir(class_dir)**: Ensures that only directories are processed, skipping any non-directory files in the output directory.\n",
    "\n",
    "5. **for img_name in os.listdir(class_dir)**: Iterates through the files (images) within each class directory.\n",
    "\n",
    "6. **img_path = os.path.join(class_dir, img_name)**: Combines the class directory path with the image filename to get the full image path.\n",
    "\n",
    "7. **img = Image.open(img_path).convert(\"RGB\")**: Opens the image and converts it to RGB format to ensure consistent color channels.\n",
    "\n",
    "8. **if img.size[0] < min_size or img.size[1] < min_size**: Checks if the width (`img.size[0]`) or height (`img.size[1]`) of the image is smaller than the `min_size` (128 pixels). If either dimension is smaller, it qualifies as a \"small\" image.\n",
    "\n",
    "9. **small_images.append((class_name, img_name, img.size[0], img.size[1]))**: If an image is smaller than 128x128 pixels, its class name, image name, and dimensions (width and height) are appended to the `small_images` list.\n",
    "\n",
    "10. **except Exception as e**: Catches and handles any errors that occur when trying to open or process an image, and prints an error message indicating which image caused the issue.\n",
    "\n",
    "11. **if small_images**: After processing all images, the script checks if there are any images in the `small_images` list. If so, it proceeds to print details about each image (class name, image name, width, and height).\n",
    "\n",
    "12. **else**: If no images smaller than 128x128 are found, it prints a message confirming that all images are at least 128x128 pixels.\n",
    "\n",
    "#### Output:\n",
    "- If there are any images smaller than 128x128, the script will print the number of such images, along with their class name, image name, and dimensions (width x height).\n",
    "- If all images meet the size requirement, a confirmation message stating \"All images are 128x128 or larger.\" will be displayed.\n"
   ]
  },
  {
   "cell_type": "code",
   "execution_count": 5,
   "id": "503aaaa1",
   "metadata": {
    "execution": {
     "iopub.execute_input": "2024-12-22T14:28:22.544978Z",
     "iopub.status.busy": "2024-12-22T14:28:22.544770Z",
     "iopub.status.idle": "2024-12-22T14:29:42.866602Z",
     "shell.execute_reply": "2024-12-22T14:29:42.865733Z"
    },
    "papermill": {
     "duration": 80.335398,
     "end_time": "2024-12-22T14:29:42.874004",
     "exception": false,
     "start_time": "2024-12-22T14:28:22.538606",
     "status": "completed"
    },
    "tags": []
   },
   "outputs": [
    {
     "name": "stdout",
     "output_type": "stream",
     "text": [
      "4 images are smaller than 128x128:\n",
      "Class: deer, Image: deer_10356.jpg, Size: 500x122\n",
      "Class: dolphin, Image: dolphin_10885.jpg, Size: 170x127\n",
      "Class: squirrel, Image: squirrel_10722.jpg, Size: 100x100\n",
      "Class: squirrel, Image: squirrel_10744.jpg, Size: 120x160\n"
     ]
    }
   ],
   "source": [
    "# List to hold images smaller than 128x128\n",
    "small_images = []\n",
    "\n",
    "# Check all images\n",
    "for class_name in sorted(os.listdir(output_dir)):\n",
    "    class_dir = os.path.join(output_dir, class_name)\n",
    "\n",
    "    if os.path.isdir(class_dir):\n",
    "        for img_name in os.listdir(class_dir):\n",
    "            img_path = os.path.join(class_dir, img_name)\n",
    "            try:\n",
    "                img = Image.open(img_path).convert(\"RGB\")\n",
    "                \n",
    "                # Size check: If the size is smaller than 128x128\n",
    "                if img.size[0] < min_size or img.size[1] < min_size:\n",
    "                    small_images.append((class_name, img_name, img.size[0], img.size[1]))\n",
    "            except Exception as e:\n",
    "                print(f\"Error occurred: {img_path} - {e}\")\n",
    "\n",
    "# Images smaller than 128x128\n",
    "if small_images:\n",
    "    print(f\"{len(small_images)} images are smaller than 128x128:\")\n",
    "    for class_name, img_name, width, height in small_images:\n",
    "        print(f\"Class: {class_name}, Image: {img_name}, Size: {width}x{height}\")\n",
    "else:\n",
    "    print(\"All images are 128x128 or larger.\")"
   ]
  },
  {
   "cell_type": "markdown",
   "id": "f9e38842",
   "metadata": {
    "papermill": {
     "duration": 0.005556,
     "end_time": "2024-12-22T14:29:42.885528",
     "exception": false,
     "start_time": "2024-12-22T14:29:42.879972",
     "status": "completed"
    },
    "tags": []
   },
   "source": [
    "### Padding Images to 128x128\n",
    "\n",
    "This script pads images that are smaller than 128x128 pixels to the required size of 128x128 pixels. It ensures that images are centered with black padding.\n",
    "\n",
    "#### Code Explanation:\n",
    "\n",
    "1. **pad_to_128(img)**: A function that adds padding to an image to resize it to 128x128 pixels if its dimensions are smaller than the target size.\n",
    "   - **width, height = img.size**: Retrieves the current width and height of the image.\n",
    "   - **if width < min_size or height < min_size**: Checks if either the width or height is smaller than the specified `min_size` (128 pixels).\n",
    "   - **padding_left, padding_top, padding_right, padding_bottom**: Calculates how much padding is needed on each side (left, top, right, bottom) to center the image and reach the required 128x128 size.\n",
    "   - **img = ImageOps.expand(img, (padding_left, padding_top, padding_right, padding_bottom), fill=(0, 0, 0))**: Adds the calculated padding around the image. The `fill=(0, 0, 0)` ensures that the padding is black (RGB color (0, 0, 0)).\n",
    "\n",
    "2. **for class_name, img_name, width, height in small_images**: Loops through the `small_images` list, which contains information about images smaller than 128x128 pixels.\n",
    "   \n",
    "3. **img_path = os.path.join(output_dir, class_name, img_name)**: Combines the class directory and image name to form the full path to each image.\n",
    "\n",
    "4. **img = Image.open(img_path).convert(\"RGB\")**: Opens the image and converts it to RGB format.\n",
    "\n",
    "5. **img = pad_to_128(img)**: Applies the padding function to resize the image to 128x128 pixels, if necessary.\n",
    "\n",
    "6. **img.save(img_path)**: Saves the padded image, overwriting the original image.\n",
    "\n",
    "7. **print(f\"Class: {class_name}, Image: {img_name} - Size: {img.size} (padding applied)\")**: Prints the class name, image name, and the new size of the image after padding.\n",
    "\n",
    "8. **except Exception as e**: Catches and handles any errors that occur while processing an image, printing an error message.\n",
    "\n",
    "9. **print(\"Padding process completed.\")**: Prints a message indicating the completion of the padding process.\n",
    "\n",
    "#### Output:\n",
    "- For each image that is smaller than 128x128, the script prints the class name, image name, and the new size of the image after padding.\n",
    "- If any errors occur during image processing, the error message is printed.\n",
    "- A final message \"Padding process completed.\" is printed when the script finishes.\n"
   ]
  },
  {
   "cell_type": "code",
   "execution_count": 6,
   "id": "c82b8cc9",
   "metadata": {
    "execution": {
     "iopub.execute_input": "2024-12-22T14:29:42.898104Z",
     "iopub.status.busy": "2024-12-22T14:29:42.897853Z",
     "iopub.status.idle": "2024-12-22T14:29:42.908148Z",
     "shell.execute_reply": "2024-12-22T14:29:42.907309Z"
    },
    "papermill": {
     "duration": 0.018203,
     "end_time": "2024-12-22T14:29:42.909453",
     "exception": false,
     "start_time": "2024-12-22T14:29:42.891250",
     "status": "completed"
    },
    "tags": []
   },
   "outputs": [
    {
     "name": "stdout",
     "output_type": "stream",
     "text": [
      "Class: deer, Image: deer_10356.jpg - Size: (128, 128) (padding applied)\n",
      "Class: dolphin, Image: dolphin_10885.jpg - Size: (128, 128) (padding applied)\n",
      "Class: squirrel, Image: squirrel_10722.jpg - Size: (128, 128) (padding applied)\n",
      "Class: squirrel, Image: squirrel_10744.jpg - Size: (128, 128) (padding applied)\n",
      "Padding process completed.\n"
     ]
    }
   ],
   "source": [
    "# Padding function: Resize the image to 128x128\n",
    "def pad_to_128(img):\n",
    "    # Current image dimensions\n",
    "    width, height = img.size\n",
    "    \n",
    "    # Only add padding to images smaller than the required size\n",
    "    if width < min_size or height < min_size:\n",
    "        # Add padding to the right and bottom based on the image size\n",
    "        padding_left = (min_size - width) // 2\n",
    "        padding_top = (min_size - height) // 2\n",
    "        padding_right = min_size - width - padding_left\n",
    "        padding_bottom = min_size - height - padding_top\n",
    "        \n",
    "        img = ImageOps.expand(img, (padding_left, padding_top, padding_right, padding_bottom), fill=(0, 0, 0))\n",
    "    \n",
    "    return img\n",
    "\n",
    "# Apply padding to the images in the small_images list\n",
    "for class_name, img_name, width, height in small_images:\n",
    "    img_path = os.path.join(output_dir, class_name, img_name)\n",
    "    \n",
    "    try:\n",
    "        img = Image.open(img_path).convert(\"RGB\")\n",
    "        \n",
    "        # Apply padding and save\n",
    "        img = pad_to_128(img)\n",
    "        img.save(img_path)  # Save the modified image\n",
    "        print(f\"Class: {class_name}, Image: {img_name} - Size: {img.size} (padding applied)\")\n",
    "    except Exception as e:\n",
    "        print(f\"Error occurred: {img_path} - {e}\")\n",
    "\n",
    "print(\"Padding process completed.\")"
   ]
  },
  {
   "cell_type": "markdown",
   "id": "bd4c4508",
   "metadata": {
    "papermill": {
     "duration": 0.005715,
     "end_time": "2024-12-22T14:29:42.921463",
     "exception": false,
     "start_time": "2024-12-22T14:29:42.915748",
     "status": "completed"
    },
    "tags": []
   },
   "source": [
    "### Identifying and Listing Images Larger than 128x128\n",
    "\n",
    "This script identifies images in the dataset that are larger than 128x128 pixels and lists them.\n",
    "\n",
    "#### Code Explanation:\n",
    "\n",
    "1. **target_size = (128, 128)**: Defines the target size (128x128 pixels) that the images should not exceed.\n",
    "\n",
    "2. **larger_images**: An empty list is initialized to store information about images that are larger than 128x128 pixels (including class, image name, width, and height).\n",
    "\n",
    "3. **for class_name in sorted(os.listdir(output_dir))**: Iterates through the directories (representing different classes) inside the `output_dir`, sorting them alphabetically.\n",
    "\n",
    "4. **class_dir = os.path.join(output_dir, class_name)**: Combines the `output_dir` with the current class name to create the path to the class directory.\n",
    "\n",
    "5. **if os.path.isdir(class_dir)**: Ensures that only directories are processed, ignoring any non-directory files.\n",
    "\n",
    "6. **for img_name in os.listdir(class_dir)**: Iterates through the images inside the current class directory.\n",
    "\n",
    "7. **img_path = os.path.join(class_dir, img_name)**: Combines the class directory path and the image name to form the full image path.\n",
    "\n",
    "8. **img = Image.open(img_path).convert(\"RGB\")**: Opens the image and converts it to RGB format.\n",
    "\n",
    "9. **if img.size[0] > target_size[0] or img.size[1] > target_size[1]**: Checks if the width (`img.size[0]`) or height (`img.size[1]`) of the image is larger than the defined `target_size` (128x128 pixels).\n",
    "\n",
    "10. **larger_images.append((class_name, img_name, img.size[0], img.size[1]))**: If the image is larger than 128x128 pixels, the class name, image name, and dimensions are added to the `larger_images` list.\n",
    "\n",
    "11. **except Exception as e**: Catches any errors that occur while processing an image, printing an error message.\n",
    "\n",
    "12. **if larger_images**: If there are any images larger than 128x128, the script prints the total count of such images.\n",
    "\n",
    "13. **else**: If no images are found that exceed the target size, the script prints a message saying \"No images are larger than 128x128.\"\n",
    "\n",
    "#### Output:\n",
    "- If there are any images larger than 128x128, the script will print the total number of such images. \n",
    "- (Commented out) The code includes a `for` loop (currently commented) that can be used to print the class name, image name, and size of each large image.\n",
    "- If no images are larger than 128x128, a message will state that all images are within the desired size limit."
   ]
  },
  {
   "cell_type": "code",
   "execution_count": 7,
   "id": "f778ab8e",
   "metadata": {
    "execution": {
     "iopub.execute_input": "2024-12-22T14:29:42.933943Z",
     "iopub.status.busy": "2024-12-22T14:29:42.933727Z",
     "iopub.status.idle": "2024-12-22T14:31:03.034549Z",
     "shell.execute_reply": "2024-12-22T14:31:03.033722Z"
    },
    "papermill": {
     "duration": 80.114411,
     "end_time": "2024-12-22T14:31:03.041746",
     "exception": false,
     "start_time": "2024-12-22T14:29:42.927335",
     "status": "completed"
    },
    "tags": []
   },
   "outputs": [
    {
     "name": "stdout",
     "output_type": "stream",
     "text": [
      "15249 images are larger than 128x128:\n"
     ]
    }
   ],
   "source": [
    "target_size = (128, 128)  # Target size (128x128)\n",
    "\n",
    "# List to store images that are larger than 128x128\n",
    "larger_images = []\n",
    "\n",
    "# Check all images\n",
    "for class_name in sorted(os.listdir(output_dir)):\n",
    "    class_dir = os.path.join(output_dir, class_name)\n",
    "\n",
    "    if os.path.isdir(class_dir):\n",
    "        for img_name in os.listdir(class_dir):\n",
    "            img_path = os.path.join(class_dir, img_name)\n",
    "            try:\n",
    "                img = Image.open(img_path).convert(\"RGB\")\n",
    "                \n",
    "                # Size check: If the size is larger than 128x128\n",
    "                if img.size[0] > target_size[0] or img.size[1] > target_size[1]:\n",
    "                    larger_images.append((class_name, img_name, img.size[0], img.size[1]))\n",
    "            except Exception as e:\n",
    "                print(f\"Error occurred: {img_path} - {e}\")\n",
    "\n",
    "# Images larger than 128x128\n",
    "if larger_images:\n",
    "    print(f\"{len(larger_images)} images are larger than 128x128:\")\n",
    "    #for class_name, img_name, width, height in larger_images:\n",
    "        #print(f\"Class: {class_name}, Image: {img_name}, Size: {width}x{height}\")\n",
    "        # Run this for loop to see which images are large.\n",
    "else:\n",
    "    print(\"No images are larger than 128x128.\")"
   ]
  },
  {
   "cell_type": "markdown",
   "id": "86766211",
   "metadata": {
    "papermill": {
     "duration": 0.005774,
     "end_time": "2024-12-22T14:31:03.053742",
     "exception": false,
     "start_time": "2024-12-22T14:31:03.047968",
     "status": "completed"
    },
    "tags": []
   },
   "source": [
    "### Resizing Images Larger than 128x128\n",
    "\n",
    "This script resizes images that are larger than 128x128 pixels to the target size of 128x128 pixels using high-quality downsampling.\n",
    "\n",
    "#### Code Explanation:\n",
    "\n",
    "1. **for class_name, img_name, width, height in larger_images**: Loops through the list `larger_images`, which contains information about images larger than 128x128 pixels (class, image name, width, and height).\n",
    "\n",
    "2. **img_path = os.path.join(output_dir, class_name, img_name)**: Combines the `output_dir` with the class name and image name to create the full path to each image.\n",
    "\n",
    "3. **img = Image.open(img_path).convert(\"RGB\")**: Opens the image and converts it to RGB format to ensure consistent color channels.\n",
    "\n",
    "4. **img_resized = img.resize(target_size, Image.Resampling.LANCZOS)**: Resizes the image to the target size (128x128) using the `LANCZOS` filter, which is known for high-quality downsampling.\n",
    "\n",
    "5. **img_resized.save(img_path)**: Saves the resized image back to the original path, overwriting the original image with the resized version.\n",
    "\n",
    "6. **except Exception as e**: Catches any errors that occur during the resizing process and prints an error message with the image path and the error details.\n",
    "\n",
    "7. **print(\"Resizing process completed.\")**: After all images have been processed, a message is printed indicating that the resizing process has been completed.\n",
    "\n",
    "#### Output:\n",
    "- The script will resize any images in the `larger_images` list that exceed 128x128 pixels and save them back to their original paths.\n",
    "- If an error occurs while resizing any image, an error message is printed.\n",
    "- A final message \"Resizing process completed.\" is printed when the script finishes processing all images.\n"
   ]
  },
  {
   "cell_type": "code",
   "execution_count": 8,
   "id": "4d6fecff",
   "metadata": {
    "execution": {
     "iopub.execute_input": "2024-12-22T14:31:03.066192Z",
     "iopub.status.busy": "2024-12-22T14:31:03.065940Z",
     "iopub.status.idle": "2024-12-22T14:34:07.003281Z",
     "shell.execute_reply": "2024-12-22T14:34:07.002337Z"
    },
    "papermill": {
     "duration": 183.950739,
     "end_time": "2024-12-22T14:34:07.010318",
     "exception": false,
     "start_time": "2024-12-22T14:31:03.059579",
     "status": "completed"
    },
    "tags": []
   },
   "outputs": [
    {
     "name": "stdout",
     "output_type": "stream",
     "text": [
      "Resizing process completed.\n"
     ]
    }
   ],
   "source": [
    "# Resize images in the larger_images list\n",
    "for class_name, img_name, width, height in larger_images:\n",
    "    img_path = os.path.join(output_dir, class_name, img_name)\n",
    "    try:\n",
    "        img = Image.open(img_path).convert(\"RGB\")\n",
    "        \n",
    "        # Resize the image to 128x128\n",
    "        img_resized = img.resize(target_size, Image.Resampling.LANCZOS)  # Use high-quality downsampling\n",
    "        \n",
    "        # Save the resized image\n",
    "        img_resized.save(img_path)\n",
    "        #print(f\"Class: {class_name}, Image: {img_name} - Resized to 128x128\")\n",
    "    except Exception as e:\n",
    "        print(f\"Error occurred during resizing: {img_path} - {e}\")\n",
    "\n",
    "print(\"Resizing process completed.\")"
   ]
  },
  {
   "cell_type": "markdown",
   "id": "876bea97",
   "metadata": {
    "papermill": {
     "duration": 0.005695,
     "end_time": "2024-12-22T14:34:07.022167",
     "exception": false,
     "start_time": "2024-12-22T14:34:07.016472",
     "status": "completed"
    },
    "tags": []
   },
   "source": [
    "### Identifying Images Not Matching 128x128 Size\n",
    "\n",
    "This script checks for images that do not match the target size of 128x128 pixels and lists them.\n",
    "\n",
    "#### Code Explanation:\n",
    "\n",
    "1. **non_matching_images**: An empty list is initialized to store information about images that do not match the target size of 128x128 pixels (including class, image name, width, and height).\n",
    "\n",
    "2. **for class_name in sorted(os.listdir(output_dir))**: The script iterates through the directories (representing different classes) inside the `output_dir`, sorting them alphabetically.\n",
    "\n",
    "3. **class_dir = os.path.join(output_dir, class_name)**: Combines the `output_dir` with the current class name to create the path to the class directory.\n",
    "\n",
    "4. **if os.path.isdir(class_dir)**: Ensures that only directories are processed, ignoring any non-directory files in the output directory.\n",
    "\n",
    "5. **for img_name in os.listdir(class_dir)**: Iterates through the images inside the current class directory.\n",
    "\n",
    "6. **img_path = os.path.join(class_dir, img_name)**: Combines the class directory path and the image name to form the full image path.\n",
    "\n",
    "7. **img = Image.open(img_path).convert(\"RGB\")**: Opens the image and converts it to RGB format to ensure consistent color channels.\n",
    "\n",
    "8. **if img.size != target_size**: Checks if the image size does not match the target size (128x128 pixels). If the size does not match, the image details are added to the `non_matching_images` list.\n",
    "\n",
    "9. **non_matching_images.append((class_name, img_name, img.size[0], img.size[1]))**: If the image size is not 128x128, the class name, image name, and dimensions are appended to the list.\n",
    "\n",
    "10. **except Exception as e**: Catches any errors that occur while processing an image, printing an error message with the image path and the error details.\n",
    "\n",
    "11. **if non_matching_images**: If there are any images in the `non_matching_images` list, the script prints the total number of such images, along with their class name, image name, and dimensions (width and height).\n",
    "\n",
    "12. **else**: If all images match the target size of 128x128, the script prints a message stating that all images are 128x128.\n",
    "\n",
    "#### Output:\n",
    "- If there are images that do not match the 128x128 size, the script prints the total number of such images, along with details about their class, image name, and size.\n",
    "- If no images are found that deviate from the 128x128 size, a message stating \"All images are 128x128 in size.\" will be printed.\n"
   ]
  },
  {
   "cell_type": "code",
   "execution_count": 9,
   "id": "56199582",
   "metadata": {
    "execution": {
     "iopub.execute_input": "2024-12-22T14:34:07.035071Z",
     "iopub.status.busy": "2024-12-22T14:34:07.034817Z",
     "iopub.status.idle": "2024-12-22T14:34:20.485220Z",
     "shell.execute_reply": "2024-12-22T14:34:20.484241Z"
    },
    "papermill": {
     "duration": 13.458524,
     "end_time": "2024-12-22T14:34:20.486690",
     "exception": false,
     "start_time": "2024-12-22T14:34:07.028166",
     "status": "completed"
    },
    "tags": []
   },
   "outputs": [
    {
     "name": "stdout",
     "output_type": "stream",
     "text": [
      "All images are 128x128 in size.\n"
     ]
    }
   ],
   "source": [
    "# List to store images that do not match the 128x128 size\n",
    "non_matching_images = []\n",
    "\n",
    "# Check all images\n",
    "for class_name in sorted(os.listdir(output_dir)):\n",
    "    class_dir = os.path.join(output_dir, class_name)\n",
    "\n",
    "    if os.path.isdir(class_dir):\n",
    "        for img_name in os.listdir(class_dir):\n",
    "            img_path = os.path.join(class_dir, img_name)\n",
    "            try:\n",
    "                img = Image.open(img_path).convert(\"RGB\")\n",
    "                \n",
    "                # Size check: If the size is not equal to 128x128\n",
    "                if img.size != target_size:\n",
    "                    non_matching_images.append((class_name, img_name, img.size[0], img.size[1]))\n",
    "            except Exception as e:\n",
    "                print(f\"Error occurred: {img_path} - {e}\")\n",
    "\n",
    "# Images not matching the 128x128 size\n",
    "if non_matching_images:\n",
    "    print(f\"{len(non_matching_images)} images are not 128x128:\")\n",
    "    for class_name, img_name, width, height in non_matching_images:\n",
    "        print(f\"Class: {class_name}, Image: {img_name}, Size: {width}x{height}\")\n",
    "else:\n",
    "    print(\"All images are 128x128 in size.\")"
   ]
  },
  {
   "cell_type": "markdown",
   "id": "9ae1d88b",
   "metadata": {
    "papermill": {
     "duration": 0.006077,
     "end_time": "2024-12-22T14:34:20.499273",
     "exception": false,
     "start_time": "2024-12-22T14:34:20.493196",
     "status": "completed"
    },
    "tags": []
   },
   "source": [
    "### Training Parameters\n",
    "\n",
    "This section defines the key hyperparameters used for training a model using PyTorch.\n",
    "\n",
    "#### Parameters:\n",
    "\n",
    "1. **batch_size = 32**: \n",
    "   - Defines the number of samples that will be processed together in one batch during training. \n",
    "   - A batch size of 32 means that 32 images will be passed through the model at each training step.\n",
    "\n",
    "2. **num_epochs = 10**: \n",
    "   - Specifies the number of times the entire training dataset will be passed through the model during training. \n",
    "   - A value of 10 means the model will be trained for 10 full iterations over the dataset.\n",
    "\n",
    "3. **learning_rate = 0.001**: \n",
    "   - A learning rate of 0.001 is commonly used and determines how much the model weights will be updated after each batch. A smaller value can lead to more stable training but may take longer to converge, while a larger value can speed up training but might cause the model to overshoot the optimal weights.\n"
   ]
  },
  {
   "cell_type": "code",
   "execution_count": 10,
   "id": "a451d311",
   "metadata": {
    "execution": {
     "iopub.execute_input": "2024-12-22T14:34:20.511901Z",
     "iopub.status.busy": "2024-12-22T14:34:20.511685Z",
     "iopub.status.idle": "2024-12-22T14:34:20.514905Z",
     "shell.execute_reply": "2024-12-22T14:34:20.514222Z"
    },
    "papermill": {
     "duration": 0.010682,
     "end_time": "2024-12-22T14:34:20.515998",
     "exception": false,
     "start_time": "2024-12-22T14:34:20.505316",
     "status": "completed"
    },
    "tags": []
   },
   "outputs": [],
   "source": [
    "# Parameters\n",
    "batch_size = 32  # Batch size for DataLoader\n",
    "num_epochs = 10  # Number of epochs\n",
    "learning_rate = 0.001"
   ]
  },
  {
   "cell_type": "markdown",
   "id": "a1d84ee4",
   "metadata": {
    "papermill": {
     "duration": 0.005676,
     "end_time": "2024-12-22T14:34:20.527695",
     "exception": false,
     "start_time": "2024-12-22T14:34:20.522019",
     "status": "completed"
    },
    "tags": []
   },
   "source": [
    "### Transform for Data Loading\n",
    "\n",
    "- **Purpose**: Converts images to tensors for compatibility with PyTorch models.\n",
    "- **Transformation**:\n",
    "  - **ToTensor()**: Converts PIL images or numpy arrays to PyTorch tensors, normalizing pixel values to the range [0, 1]."
   ]
  },
  {
   "cell_type": "code",
   "execution_count": 11,
   "id": "a5cb85ab",
   "metadata": {
    "execution": {
     "iopub.execute_input": "2024-12-22T14:34:20.540454Z",
     "iopub.status.busy": "2024-12-22T14:34:20.540190Z",
     "iopub.status.idle": "2024-12-22T14:34:20.543448Z",
     "shell.execute_reply": "2024-12-22T14:34:20.542626Z"
    },
    "papermill": {
     "duration": 0.011001,
     "end_time": "2024-12-22T14:34:20.544666",
     "exception": false,
     "start_time": "2024-12-22T14:34:20.533665",
     "status": "completed"
    },
    "tags": []
   },
   "outputs": [],
   "source": [
    "transform = transforms.Compose([\n",
    "    transforms.ToTensor(),  # Convert PIL images to tensors\n",
    "])"
   ]
  },
  {
   "cell_type": "markdown",
   "id": "dfe722e2",
   "metadata": {
    "papermill": {
     "duration": 0.005835,
     "end_time": "2024-12-22T14:34:20.556712",
     "exception": false,
     "start_time": "2024-12-22T14:34:20.550877",
     "status": "completed"
    },
    "tags": []
   },
   "source": [
    "### Loading the Dataset\n",
    "\n",
    "- **datasets.ImageFolder**: Loads the dataset from `output_dir`, assuming a folder-per-class structure.\n",
    "- **transform**: Applies the specified transformations during loading.\n",
    "- Assumes images are already resized to 128x128; no additional resizing needed."
   ]
  },
  {
   "cell_type": "code",
   "execution_count": 12,
   "id": "bcdcf850",
   "metadata": {
    "execution": {
     "iopub.execute_input": "2024-12-22T14:34:20.569681Z",
     "iopub.status.busy": "2024-12-22T14:34:20.569446Z",
     "iopub.status.idle": "2024-12-22T14:34:20.693375Z",
     "shell.execute_reply": "2024-12-22T14:34:20.692794Z"
    },
    "papermill": {
     "duration": 0.131708,
     "end_time": "2024-12-22T14:34:20.694701",
     "exception": false,
     "start_time": "2024-12-22T14:34:20.562993",
     "status": "completed"
    },
    "tags": []
   },
   "outputs": [],
   "source": [
    "# Load the dataset (already resized to 128x128, no need for further resize)\n",
    "dataset = datasets.ImageFolder(root=output_dir, transform=transform)"
   ]
  },
  {
   "cell_type": "markdown",
   "id": "f943b633",
   "metadata": {
    "papermill": {
     "duration": 0.005899,
     "end_time": "2024-12-22T14:34:20.706767",
     "exception": false,
     "start_time": "2024-12-22T14:34:20.700868",
     "status": "completed"
    },
    "tags": []
   },
   "source": [
    "### Splitting the Dataset\n",
    "\n",
    "- **train_size**: 70% of the dataset is allocated for training.\n",
    "- **test_size**: Remaining 30% is used for testing.\n",
    "- **random_split**: Randomly divides the dataset into training and testing subsets based on the calculated sizes."
   ]
  },
  {
   "cell_type": "code",
   "execution_count": 13,
   "id": "2c6dfa7b",
   "metadata": {
    "execution": {
     "iopub.execute_input": "2024-12-22T14:34:20.719407Z",
     "iopub.status.busy": "2024-12-22T14:34:20.719166Z",
     "iopub.status.idle": "2024-12-22T14:34:20.745112Z",
     "shell.execute_reply": "2024-12-22T14:34:20.744319Z"
    },
    "papermill": {
     "duration": 0.033724,
     "end_time": "2024-12-22T14:34:20.746478",
     "exception": false,
     "start_time": "2024-12-22T14:34:20.712754",
     "status": "completed"
    },
    "tags": []
   },
   "outputs": [],
   "source": [
    "# Split dataset into 70% training and 30% testing\n",
    "train_size = int(0.7 * len(dataset))\n",
    "test_size = len(dataset) - train_size\n",
    "train_dataset, test_dataset = random_split(dataset, [train_size, test_size])"
   ]
  },
  {
   "cell_type": "markdown",
   "id": "65ee08b4",
   "metadata": {
    "papermill": {
     "duration": 0.005653,
     "end_time": "2024-12-22T14:34:20.758117",
     "exception": false,
     "start_time": "2024-12-22T14:34:20.752464",
     "status": "completed"
    },
    "tags": []
   },
   "source": [
    "### Creating DataLoaders\n",
    "\n",
    "- **train_loader**: Loads the training dataset with shuffling for randomness and uses the specified `batch_size`.\n",
    "- **test_loader**: Loads the testing dataset without shuffling, ensuring data order is preserved."
   ]
  },
  {
   "cell_type": "code",
   "execution_count": 14,
   "id": "a4c5981f",
   "metadata": {
    "execution": {
     "iopub.execute_input": "2024-12-22T14:34:20.770866Z",
     "iopub.status.busy": "2024-12-22T14:34:20.770654Z",
     "iopub.status.idle": "2024-12-22T14:34:20.773904Z",
     "shell.execute_reply": "2024-12-22T14:34:20.773311Z"
    },
    "papermill": {
     "duration": 0.010945,
     "end_time": "2024-12-22T14:34:20.774958",
     "exception": false,
     "start_time": "2024-12-22T14:34:20.764013",
     "status": "completed"
    },
    "tags": []
   },
   "outputs": [],
   "source": [
    "# Create DataLoader for training and testing\n",
    "train_loader = DataLoader(train_dataset, batch_size=batch_size, shuffle=True)\n",
    "test_loader = DataLoader(test_dataset, batch_size=batch_size, shuffle=False)"
   ]
  },
  {
   "cell_type": "markdown",
   "id": "1ba6a1ba",
   "metadata": {
    "papermill": {
     "duration": 0.005847,
     "end_time": "2024-12-22T14:34:20.786758",
     "exception": false,
     "start_time": "2024-12-22T14:34:20.780911",
     "status": "completed"
    },
    "tags": []
   },
   "source": [
    "### Defining the CNN Model\n",
    "\n",
    "- **Architecture**:\n",
    "  - **Convolutional Layers**:\n",
    "    - `conv1`, `conv2`, `conv3`: Extract features using 32, 64, and 128 filters with 3x3 kernels.\n",
    "  - **Pooling**: Max pooling with a 2x2 window reduces spatial dimensions.\n",
    "  - **Fully Connected Layers**:\n",
    "    - `fc1`: Maps flattened features to 512 neurons.\n",
    "    - `fc2`: Maps to the number of classes (`num_classes`).\n",
    "  - **Dropout**: Applies 50% dropout after `fc1` for regularization.\n",
    "  \n",
    "- **Activation**: ReLU activation function is used in all layers.\n",
    "- **Forward Pass**: Processes input through convolutional, pooling, and fully connected layers.\n",
    "- **Input Size**: Adjusted for 128x128 images.\n"
   ]
  },
  {
   "cell_type": "code",
   "execution_count": 15,
   "id": "82e2cb79",
   "metadata": {
    "execution": {
     "iopub.execute_input": "2024-12-22T14:34:20.799448Z",
     "iopub.status.busy": "2024-12-22T14:34:20.799190Z",
     "iopub.status.idle": "2024-12-22T14:34:20.805622Z",
     "shell.execute_reply": "2024-12-22T14:34:20.804842Z"
    },
    "papermill": {
     "duration": 0.014029,
     "end_time": "2024-12-22T14:34:20.806783",
     "exception": false,
     "start_time": "2024-12-22T14:34:20.792754",
     "status": "completed"
    },
    "tags": []
   },
   "outputs": [],
   "source": [
    "# Define the CNN model\n",
    "class CNN(nn.Module):\n",
    "    def __init__(self, num_classes=50):\n",
    "        super(CNN, self).__init__()\n",
    "        self.conv1 = nn.Conv2d(3, 32, kernel_size=3, stride=1, padding=1)\n",
    "        self.conv2 = nn.Conv2d(32, 64, kernel_size=3, stride=1, padding=1)\n",
    "        self.conv3 = nn.Conv2d(64, 128, kernel_size=3, stride=1, padding=1)\n",
    "        self.fc1 = nn.Linear(128 * 16 * 16, 512)  # Adjusted for 128x128 input size\n",
    "        self.fc2 = nn.Linear(512, num_classes)\n",
    "        self.pool = nn.MaxPool2d(2, 2)\n",
    "        self.relu = nn.ReLU()\n",
    "        self.dropout = nn.Dropout(0.5)  # Added dropout for regularization\n",
    "\n",
    "    def forward(self, x):\n",
    "        x = self.pool(self.relu(self.conv1(x)))\n",
    "        x = self.pool(self.relu(self.conv2(x)))\n",
    "        x = self.pool(self.relu(self.conv3(x)))\n",
    "        x = x.view(-1, 128 * 16 * 16)  # Flatten the tensor for fully connected layers\n",
    "        x = self.relu(self.fc1(x))\n",
    "        x = self.dropout(x)  # Apply dropout before the final layer\n",
    "        x = self.fc2(x)\n",
    "        return x"
   ]
  },
  {
   "cell_type": "markdown",
   "id": "e410ad58",
   "metadata": {
    "papermill": {
     "duration": 0.005761,
     "end_time": "2024-12-22T14:34:20.818542",
     "exception": false,
     "start_time": "2024-12-22T14:34:20.812781",
     "status": "completed"
    },
    "tags": []
   },
   "source": [
    "### Model Initialization and Device Setup\n",
    "\n",
    "- **Model**: An instance of the `CNN` class is created with `num_classes=50`.\n",
    "- **Device**: Checks for CUDA availability and selects `cuda` if available; otherwise, defaults to `cpu`.\n",
    "- **Model to Device**: Moves the model to the selected device for training or inference.\n"
   ]
  },
  {
   "cell_type": "code",
   "execution_count": 16,
   "id": "d7441091",
   "metadata": {
    "execution": {
     "iopub.execute_input": "2024-12-22T14:34:20.831032Z",
     "iopub.status.busy": "2024-12-22T14:34:20.830809Z",
     "iopub.status.idle": "2024-12-22T14:34:21.277139Z",
     "shell.execute_reply": "2024-12-22T14:34:21.276175Z"
    },
    "papermill": {
     "duration": 0.454336,
     "end_time": "2024-12-22T14:34:21.278805",
     "exception": false,
     "start_time": "2024-12-22T14:34:20.824469",
     "status": "completed"
    },
    "tags": []
   },
   "outputs": [],
   "source": [
    "# Initialize the model and move to CUDA if available\n",
    "model = CNN(num_classes=50)\n",
    "device = torch.device(\"cuda\" if torch.cuda.is_available() else \"cpu\")\n",
    "model = model.to(device)"
   ]
  },
  {
   "cell_type": "markdown",
   "id": "9134ba34",
   "metadata": {
    "papermill": {
     "duration": 0.006191,
     "end_time": "2024-12-22T14:34:21.291571",
     "exception": false,
     "start_time": "2024-12-22T14:34:21.285380",
     "status": "completed"
    },
    "tags": []
   },
   "source": [
    "### Optimizer and Loss Function\n",
    "\n",
    "- **Optimizer**: Adam optimizer with a learning rate of `learning_rate` for efficient gradient updates.\n",
    "- **Loss Function**: Cross-Entropy Loss, suitable for multi-class classification tasks."
   ]
  },
  {
   "cell_type": "code",
   "execution_count": 17,
   "id": "6e38c34a",
   "metadata": {
    "execution": {
     "iopub.execute_input": "2024-12-22T14:34:21.304722Z",
     "iopub.status.busy": "2024-12-22T14:34:21.304455Z",
     "iopub.status.idle": "2024-12-22T14:34:21.308386Z",
     "shell.execute_reply": "2024-12-22T14:34:21.307583Z"
    },
    "papermill": {
     "duration": 0.011844,
     "end_time": "2024-12-22T14:34:21.309620",
     "exception": false,
     "start_time": "2024-12-22T14:34:21.297776",
     "status": "completed"
    },
    "tags": []
   },
   "outputs": [],
   "source": [
    "# Define the optimizer and loss function\n",
    "optimizer = optim.Adam(model.parameters(), lr=learning_rate)\n",
    "criterion = nn.CrossEntropyLoss()"
   ]
  },
  {
   "cell_type": "markdown",
   "id": "3009710e",
   "metadata": {
    "papermill": {
     "duration": 0.005762,
     "end_time": "2024-12-22T14:34:21.321292",
     "exception": false,
     "start_time": "2024-12-22T14:34:21.315530",
     "status": "completed"
    },
    "tags": []
   },
   "source": [
    "### Model Training Function\n",
    "\n",
    "#### **Functionality**:\n",
    "- Trains the CNN model and evaluates its performance on both training and testing datasets.\n",
    "\n",
    "#### **Steps**:\n",
    "1. **Training Phase**:\n",
    "   - Set the model to training mode: `model.train()`.\n",
    "   - Perform forward pass, calculate loss, and backpropagate gradients.\n",
    "   - Update model weights using the optimizer.\n",
    "   - Compute training accuracy for each epoch.\n",
    "\n",
    "2. **Evaluation Phase**:\n",
    "   - Set the model to evaluation mode: `model.eval()`.\n",
    "   - Disable gradient computation for efficiency: `with torch.no_grad()`.\n",
    "   - Compute test accuracy after each epoch.\n",
    "\n",
    "3. **Metrics**:\n",
    "   - Logs training loss, training accuracy, and testing accuracy for each epoch.\n",
    "\n",
    "4. **Outputs**:\n",
    "   - Returns lists of training and testing accuracies across epochs for further analysis.\n",
    "\n",
    "#### **Console Output**:\n",
    "- Displays epoch-wise training loss, training accuracy, and test accuracy.\n"
   ]
  },
  {
   "cell_type": "code",
   "execution_count": 18,
   "id": "f67aa5c0",
   "metadata": {
    "execution": {
     "iopub.execute_input": "2024-12-22T14:34:21.335835Z",
     "iopub.status.busy": "2024-12-22T14:34:21.335624Z",
     "iopub.status.idle": "2024-12-22T14:34:21.342050Z",
     "shell.execute_reply": "2024-12-22T14:34:21.341450Z"
    },
    "papermill": {
     "duration": 0.014481,
     "end_time": "2024-12-22T14:34:21.343169",
     "exception": false,
     "start_time": "2024-12-22T14:34:21.328688",
     "status": "completed"
    },
    "tags": []
   },
   "outputs": [],
   "source": [
    "# Train the model\n",
    "def train_model(model, train_loader, test_loader, num_epochs):\n",
    "    train_accuracies = []\n",
    "    test_accuracies = []\n",
    "    \n",
    "    for epoch in range(num_epochs):\n",
    "        model.train()  # Set model to training mode\n",
    "        train_correct = 0\n",
    "        train_total = 0\n",
    "        train_loss = 0\n",
    "        \n",
    "        for images, labels in train_loader:\n",
    "            images, labels = images.to(device), labels.to(device)\n",
    "            \n",
    "            optimizer.zero_grad()  # Zero gradients from previous step\n",
    "            \n",
    "            # Forward pass\n",
    "            outputs = model(images)\n",
    "            loss = criterion(outputs, labels)\n",
    "            train_loss += loss.item()\n",
    "            \n",
    "            # Backward pass\n",
    "            loss.backward()\n",
    "            optimizer.step()\n",
    "            \n",
    "            # Calculate training accuracy\n",
    "            _, predicted = torch.max(outputs, 1)\n",
    "            train_total += labels.size(0)\n",
    "            train_correct += (predicted == labels).sum().item()\n",
    "        \n",
    "        # Calculate train accuracy\n",
    "        train_accuracy = (train_correct / train_total) * 100\n",
    "        train_accuracies.append(train_accuracy)\n",
    "        \n",
    "        # Evaluate on test data\n",
    "        model.eval()  # Set model to evaluation mode\n",
    "        test_correct = 0\n",
    "        test_total = 0\n",
    "        \n",
    "        with torch.no_grad():  # No gradients are needed during evaluation\n",
    "            for images, labels in test_loader:\n",
    "                images, labels = images.to(device), labels.to(device)\n",
    "                \n",
    "                # Forward pass\n",
    "                outputs = model(images)\n",
    "                \n",
    "                # Calculate test accuracy\n",
    "                _, predicted = torch.max(outputs, 1)\n",
    "                test_total += labels.size(0)\n",
    "                test_correct += (predicted == labels).sum().item()\n",
    "        \n",
    "        test_accuracy = (test_correct / test_total) * 100\n",
    "        test_accuracies.append(test_accuracy)\n",
    "        \n",
    "        # Print the results for the epoch\n",
    "        print(f\"Epoch [{epoch+1}/{num_epochs}], \"\n",
    "              f\"Train Loss: {train_loss/len(train_loader):.4f}, \"\n",
    "              f\"Train Accuracy: {train_accuracy:.2f}%, \"\n",
    "              f\"Test Accuracy: {test_accuracy:.2f}%\")\n",
    "    \n",
    "    return train_accuracies, test_accuracies"
   ]
  },
  {
   "cell_type": "markdown",
   "id": "eef97be3",
   "metadata": {
    "papermill": {
     "duration": 0.005901,
     "end_time": "2024-12-22T14:34:21.355143",
     "exception": false,
     "start_time": "2024-12-22T14:34:21.349242",
     "status": "completed"
    },
    "tags": []
   },
   "source": [
    "### Training the Model\n",
    "\n",
    "- **Function Call**: `train_model` is invoked to train the model and compute accuracies.\n",
    "- **Inputs**:\n",
    "  - `model`: Initialized CNN model.\n",
    "  - `train_loader` and `test_loader`: DataLoaders for training and testing datasets.\n",
    "  - `num_epochs`: Number of epochs for training.\n",
    "- **Outputs**:\n",
    "  - `train_accuracies`: List of training accuracies over all epochs.\n",
    "  - `test_accuracies`: List of testing accuracies over all epochs."
   ]
  },
  {
   "cell_type": "code",
   "execution_count": 19,
   "id": "7d661b16",
   "metadata": {
    "execution": {
     "iopub.execute_input": "2024-12-22T14:34:21.367654Z",
     "iopub.status.busy": "2024-12-22T14:34:21.367446Z",
     "iopub.status.idle": "2024-12-22T14:43:28.012231Z",
     "shell.execute_reply": "2024-12-22T14:43:28.011325Z"
    },
    "papermill": {
     "duration": 546.659346,
     "end_time": "2024-12-22T14:43:28.020416",
     "exception": false,
     "start_time": "2024-12-22T14:34:21.361070",
     "status": "completed"
    },
    "tags": []
   },
   "outputs": [
    {
     "name": "stdout",
     "output_type": "stream",
     "text": [
      "Epoch [1/10], Train Loss: 3.3048, Train Accuracy: 13.64%, Test Accuracy: 26.98%\n",
      "Epoch [2/10], Train Loss: 2.5816, Train Accuracy: 29.65%, Test Accuracy: 37.83%\n",
      "Epoch [3/10], Train Loss: 2.1542, Train Accuracy: 39.86%, Test Accuracy: 44.92%\n",
      "Epoch [4/10], Train Loss: 1.7324, Train Accuracy: 50.79%, Test Accuracy: 50.36%\n",
      "Epoch [5/10], Train Loss: 1.3732, Train Accuracy: 60.07%, Test Accuracy: 54.05%\n",
      "Epoch [6/10], Train Loss: 1.0399, Train Accuracy: 69.09%, Test Accuracy: 55.11%\n",
      "Epoch [7/10], Train Loss: 0.8066, Train Accuracy: 75.56%, Test Accuracy: 57.11%\n",
      "Epoch [8/10], Train Loss: 0.6239, Train Accuracy: 80.71%, Test Accuracy: 58.13%\n",
      "Epoch [9/10], Train Loss: 0.5134, Train Accuracy: 84.15%, Test Accuracy: 58.19%\n",
      "Epoch [10/10], Train Loss: 0.4413, Train Accuracy: 86.03%, Test Accuracy: 58.37%\n"
     ]
    }
   ],
   "source": [
    "# Call the function to train and get accuracies\n",
    "train_accuracies, test_accuracies = train_model(model, train_loader, test_loader, num_epochs)"
   ]
  },
  {
   "cell_type": "markdown",
   "id": "81b9f71c",
   "metadata": {
    "papermill": {
     "duration": 0.00621,
     "end_time": "2024-12-22T14:43:28.033367",
     "exception": false,
     "start_time": "2024-12-22T14:43:28.027157",
     "status": "completed"
    },
    "tags": []
   },
   "source": [
    "### Plotting Train and Test Accuracies\n",
    "\n",
    "- **Visualization**:\n",
    "  - Plots training and testing accuracies across epochs to evaluate model performance.\n",
    "  \n",
    "- **Details**:\n",
    "  - X-axis: Epochs.\n",
    "  - Y-axis: Accuracy (percentage).\n",
    "  - **Markers**:\n",
    "    - `Train Accuracy`: Circles (`'o'`).\n",
    "    - `Test Accuracy`: Crosses (`'x'`).\n",
    "  - Includes a legend, grid, and labeled axes for clarity.\n",
    "\n",
    "- **Purpose**:\n",
    "  - Highlights how the model's performance evolves during training.\n",
    "  - Helps identify overfitting or underfitting trends.\n"
   ]
  },
  {
   "cell_type": "code",
   "execution_count": 20,
   "id": "15ec4923",
   "metadata": {
    "execution": {
     "iopub.execute_input": "2024-12-22T14:43:28.046972Z",
     "iopub.status.busy": "2024-12-22T14:43:28.046731Z",
     "iopub.status.idle": "2024-12-22T14:43:28.319302Z",
     "shell.execute_reply": "2024-12-22T14:43:28.318532Z"
    },
    "papermill": {
     "duration": 0.281015,
     "end_time": "2024-12-22T14:43:28.320735",
     "exception": false,
     "start_time": "2024-12-22T14:43:28.039720",
     "status": "completed"
    },
    "tags": []
   },
   "outputs": [
    {
     "data": {
      "image/png": "[encoded data removed]",
      "text/plain": [
       "<Figure size 1000x500 with 1 Axes>"
      ]
     },
     "metadata": {},
     "output_type": "display_data"
    }
   ],
   "source": [
    "# Plot the accuracies\n",
    "plt.figure(figsize=(10, 5))\n",
    "plt.plot(range(1, num_epochs+1), train_accuracies, label=\"Train Accuracy\", marker='o')\n",
    "plt.plot(range(1, num_epochs+1), test_accuracies, label=\"Test Accuracy\", marker='x')\n",
    "plt.xlabel(\"Epochs\")\n",
    "plt.ylabel(\"Accuracy (%)\")\n",
    "plt.title(\"Train vs Test Accuracy\")\n",
    "plt.legend()\n",
    "plt.grid(True)\n",
    "plt.show()"
   ]
  }
 ],
 "metadata": {
  "kaggle": {
   "accelerator": "nvidiaTeslaT4",
   "dataSources": [
    {
     "datasetId": 1408532,
     "sourceId": 2333429,
     "sourceType": "datasetVersion"
    }
   ],
   "dockerImageVersionId": 30822,
   "isGpuEnabled": true,
   "isInternetEnabled": true,
   "language": "python",
   "sourceType": "notebook"
  },
  "kernelspec": {
   "display_name": "base",
   "language": "python",
   "name": "python3"
  },
  "language_info": {
   "codemirror_mode": {
    "name": "ipython",
    "version": 3
   },
   "file_extension": ".py",
   "mimetype": "text/x-python",
   "name": "python",
   "nbconvert_exporter": "python",
   "pygments_lexer": "ipython3",
   "version": "3.11.7"
  },
  "papermill": {
   "default_parameters": {},
   "duration": 1902.762967,
   "end_time": "2024-12-22T14:43:29.549865",
   "environment_variables": {},
   "exception": null,
   "input_path": "__notebook__.ipynb",
   "output_path": "__notebook__.ipynb",
   "parameters": {},
   "start_time": "2024-12-22T14:11:46.786898",
   "version": "2.6.0"
  }
 },
 "nbformat": 4,
 "nbformat_minor": 5
}
